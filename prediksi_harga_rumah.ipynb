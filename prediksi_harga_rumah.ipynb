{
 "metadata": {
  "language_info": {
   "codemirror_mode": {
    "name": "ipython",
    "version": 3
   },
   "file_extension": ".py",
   "mimetype": "text/x-python",
   "name": "python",
   "nbconvert_exporter": "python",
   "pygments_lexer": "ipython3",
   "version": "3.7.7-final"
  },
  "orig_nbformat": 2,
  "kernelspec": {
   "name": "python3",
   "display_name": "Python 3",
   "language": "python"
  }
 },
 "nbformat": 4,
 "nbformat_minor": 2,
 "cells": [
  {
   "source": [
    "# Prediksi Harga Rumah\n",
    "\n",
    "Source    : DQLab.id\n",
    "\n",
    "Typed by  : Aulia Khalqillah\n",
    "\n",
    "Objective : Prediksi harga rumah"
   ],
   "cell_type": "markdown",
   "metadata": {}
  },
  {
   "source": [
    "## Baca file \"harga_rumah.txt\""
   ],
   "cell_type": "markdown",
   "metadata": {}
  },
  {
   "cell_type": "code",
   "execution_count": 1,
   "metadata": {},
   "outputs": [],
   "source": [
    "file_harga_rumah = open(\"harga_rumah.txt\", \"r\")\n",
    "data_harga_rumah = file_harga_rumah.readlines()\n",
    "file_harga_rumah.close()"
   ]
  },
  {
   "source": [
    "## Buat list of dict dengan nama \"harga_rumah\""
   ],
   "cell_type": "markdown",
   "metadata": {}
  },
  {
   "cell_type": "code",
   "execution_count": 2,
   "metadata": {},
   "outputs": [
    {
     "output_type": "execute_result",
     "data": {
      "text/plain": [
       "[{'tanah': '70', 'bangunan': '50', 'jarak_ke_pusat': '15', 'harga': '500'},\n",
       " {'tanah': '70', 'bangunan': '60', 'jarak_ke_pusat': '30', 'harga': '400'},\n",
       " {'tanah': '70', 'bangunan': '60', 'jarak_ke_pusat': '55', 'harga': '300'},\n",
       " {'tanah': '100', 'bangunan': '50', 'jarak_ke_pusat': '30', 'harga': '700'},\n",
       " {'tanah': '100', 'bangunan': '70', 'jarak_ke_pusat': '25', 'harga': '1000'},\n",
       " {'tanah': '100', 'bangunan': '70', 'jarak_ke_pusat': '50', 'harga': '650'},\n",
       " {'tanah': '120', 'bangunan': '100', 'jarak_ke_pusat': '20', 'harga': '2000'},\n",
       " {'tanah': '120', 'bangunan': '80', 'jarak_ke_pusat': '50', 'harga': '1200'},\n",
       " {'tanah': '150', 'bangunan': '100', 'jarak_ke_pusat': '50', 'harga': '1800'},\n",
       " {'tanah': '150', 'bangunan': '90', 'jarak_ke_pusat': '15', 'harga': '3000'}]"
      ]
     },
     "metadata": {},
     "execution_count": 2
    }
   ],
   "source": [
    "key_harga_rumah = data_harga_rumah[0].replace(\"\\n\",\"\").split(\",\")\n",
    "harga_rumah = []\n",
    "for baris in data_harga_rumah[1:]:\n",
    "    baris_harga_rumah = baris.replace(\"\\n\",\"\").split(\",\")\n",
    "    dict_harga_rumah = dict()\n",
    "    for i in range(len(baris_harga_rumah)):\n",
    "        dict_harga_rumah[key_harga_rumah[i]] = baris_harga_rumah[i]\n",
    "    harga_rumah.append(dict_harga_rumah)\n",
    "\n",
    "harga_rumah"
   ]
  },
  {
   "source": [
    "## Membuat Fungsi Perhitungan"
   ],
   "cell_type": "markdown",
   "metadata": {}
  },
  {
   "source": [
    "Buat fungsi  get_all_specified_attribute yang menerima parameter list_of_dictionary. (tipe data list yang berisikan sekumpulan tipe data dictionary) dan specified_key. (tipe data string). Fungsi akan mengembalikan sebuah list yang berisikan seluruh atribut dengan kunci (key) specified_key."
   ],
   "cell_type": "markdown",
   "metadata": {}
  },
  {
   "cell_type": "code",
   "execution_count": 3,
   "metadata": {},
   "outputs": [],
   "source": [
    "def get_all_specified_attributes(list_of_dictionary, specified_key):\n",
    "    list_attributes = []\n",
    "    for data in list_of_dictionary:\n",
    "        attribute = data[specified_key]\n",
    "        list_attributes.append(attribute)\n",
    "    return list_attributes"
   ]
  },
  {
   "source": [
    "Buat fungsi fungsi min_value yang menerima parameter list_attributes (berupa tipe data list) dan mengembalikan nilai terkecil dalam list_attributes "
   ],
   "cell_type": "markdown",
   "metadata": {}
  },
  {
   "cell_type": "code",
   "execution_count": 4,
   "metadata": {},
   "outputs": [],
   "source": [
    "def min_value(list_attributes):\n",
    "    min_attribute = 9999\n",
    "    for attr in list_attributes:\n",
    "        if int(attr) < min_attribute:\n",
    "            min_attribute = int(attr)\n",
    "    return min_attribute"
   ]
  },
  {
   "source": [
    "Buat fungsi dan max_value yang menerima parameter list_attribute dan mengembalikan nilai terbesar dalam list_attributes."
   ],
   "cell_type": "markdown",
   "metadata": {}
  },
  {
   "cell_type": "code",
   "execution_count": 5,
   "metadata": {},
   "outputs": [],
   "source": [
    "def max_value(list_attributes):\n",
    "    max_attribute = -9999\n",
    "    for attr in list_attributes:\n",
    "        if int(attr) > max_attribute:\n",
    "            max_attribute = int(attr)\n",
    "    return max_attribute"
   ]
  },
  {
   "source": [
    "Buat fungsi transform_attribute yang menerima parameter attr (sebuah bilangan), max_attr (sebuah bilangan) dan min_attr (sebuah bilangan) yang mengembalikan nilai transformasi dari sebuah attribute."
   ],
   "cell_type": "markdown",
   "metadata": {}
  },
  {
   "cell_type": "code",
   "execution_count": 6,
   "metadata": {},
   "outputs": [],
   "source": [
    "def transform_attribute(attr, max_attr, min_attr):\n",
    "    nilai_transformasi = (attr - min_attr) / (max_attr - min_attr)\n",
    "    return nilai_transformasi"
   ]
  },
  {
   "source": [
    "Buat fungsi data_transformation yang menerima parameter list_of_dictionary (sebuah list yang berisikan tipe data dictionary) dan list_attribute_names (sebuah list yang berisikan tipe data string) mengembalikan hasil transformasi data dari list_of_dictionary berdasarkan list_attribute_names dan attr_info telah dispesifikasikan."
   ],
   "cell_type": "markdown",
   "metadata": {}
  },
  {
   "cell_type": "code",
   "execution_count": 7,
   "metadata": {},
   "outputs": [],
   "source": [
    "def data_transformation(list_of_dictionary, list_attribute_names):\n",
    "    attr_info = {}\n",
    "    for attr_name in list_attribute_names:\n",
    "        specified_attributes = get_all_specified_attributes(list_of_dictionary, attr_name)\n",
    "        max_attr = max_value(specified_attributes)\n",
    "        min_attr = min_value(specified_attributes)\n",
    "        attr_info[attr_name] = {'max': max_attr, 'min': min_attr}\n",
    "        data_idx = 0\n",
    "        while(data_idx < len(list_of_dictionary)):\n",
    "            list_of_dictionary[data_idx][attr_name] = transform_attribute(int(list_of_dictionary[data_idx][attr_name]), max_attr, min_attr)\n",
    "            data_idx += 1\n",
    "    return list_of_dictionary, attr_info"
   ]
  },
  {
   "source": [
    "Berdasarkan data baru dan attr_info ini, buat fungsi transform_data yang menerima parameter data dan attr_info dan mengembalikan nilai atribut dari data baru yang telah ditransformasikan."
   ],
   "cell_type": "markdown",
   "metadata": {}
  },
  {
   "cell_type": "code",
   "execution_count": 8,
   "metadata": {},
   "outputs": [],
   "source": [
    "def transform_data(data, attr_info):\n",
    "    for key_name in data.keys():\n",
    "        data[key_name] = (data[key_name] - attr_info[key_name]['min']) / (\n",
    "                            attr_info[key_name]['max'] - attr_info[key_name]['min'])\n",
    "    return data"
   ]
  },
  {
   "source": [
    "Buat fungsi yang digunakan untuk sistem prediksi harga berdasarkan nilai kemiripan atribut!"
   ],
   "cell_type": "markdown",
   "metadata": {}
  },
  {
   "cell_type": "code",
   "execution_count": 9,
   "metadata": {},
   "outputs": [],
   "source": [
    "def abs_value(value):\n",
    "    if value < 0:\n",
    "        return -value\n",
    "    else:\n",
    "        return value"
   ]
  },
  {
   "source": [
    "Buat fungsi price_based_on_similarity untuk memprediksi harga sesuai input data dan list_of_data"
   ],
   "cell_type": "markdown",
   "metadata": {}
  },
  {
   "cell_type": "code",
   "execution_count": 10,
   "metadata": {},
   "outputs": [],
   "source": [
    "def price_based_on_similarity(data, list_of_data):\n",
    "    prediksi_harga = 0\n",
    "    perbedaan_terkecil = 999\n",
    "    for data_point in list_of_data:\n",
    "        perbedaan= abs_value(data['tanah'] - data_point['tanah'])\n",
    "        perbedaan+= abs_value(data['bangunan'] - data_point['bangunan'])\n",
    "        perbedaan+= abs_value(data['jarak_ke_pusat'] - data_point['jarak_ke_pusat'])\n",
    "        if perbedaan < perbedaan_terkecil:\n",
    "            prediksi_harga = data_point['harga']\n",
    "            perbedaan_terkecil = perbedaan\n",
    "    return prediksi_harga"
   ]
  },
  {
   "source": [
    "## Hitung Prediksi Harga Rumah\n",
    "\n",
    "Hitung harga rumah yang telah ditransformasikan ke dalam variabel harga_rumah berikut dengan atributnya attr_info"
   ],
   "cell_type": "markdown",
   "metadata": {}
  },
  {
   "cell_type": "code",
   "execution_count": 11,
   "metadata": {},
   "outputs": [
    {
     "output_type": "stream",
     "name": "stdout",
     "text": [
      "Harga Rumah:\n [{'tanah': 0.0, 'bangunan': 0.0, 'jarak_ke_pusat': 0.0, 'harga': '500'}, {'tanah': 0.0, 'bangunan': 0.2, 'jarak_ke_pusat': 0.375, 'harga': '400'}, {'tanah': 0.0, 'bangunan': 0.2, 'jarak_ke_pusat': 1.0, 'harga': '300'}, {'tanah': 0.375, 'bangunan': 0.0, 'jarak_ke_pusat': 0.375, 'harga': '700'}, {'tanah': 0.375, 'bangunan': 0.4, 'jarak_ke_pusat': 0.25, 'harga': '1000'}, {'tanah': 0.375, 'bangunan': 0.4, 'jarak_ke_pusat': 0.875, 'harga': '650'}, {'tanah': 0.625, 'bangunan': 1.0, 'jarak_ke_pusat': 0.125, 'harga': '2000'}, {'tanah': 0.625, 'bangunan': 0.6, 'jarak_ke_pusat': 0.875, 'harga': '1200'}, {'tanah': 1.0, 'bangunan': 1.0, 'jarak_ke_pusat': 0.875, 'harga': '1800'}, {'tanah': 1.0, 'bangunan': 0.8, 'jarak_ke_pusat': 0.0, 'harga': '3000'}]\n\nAtribut Info:\n {'tanah': {'max': 150, 'min': 70}, 'bangunan': {'max': 100, 'min': 50}, 'jarak_ke_pusat': {'max': 55, 'min': 15}}\n"
     ]
    }
   ],
   "source": [
    "harga_rumah, attr_info = data_transformation(harga_rumah,['tanah','bangunan','jarak_ke_pusat'])\n",
    "print('Harga Rumah:\\n',harga_rumah)\n",
    "print('\\nAtribut Info:\\n', attr_info)"
   ]
  },
  {
   "source": [
    "Variabel data untuk memprediksi harga rumah"
   ],
   "cell_type": "markdown",
   "metadata": {}
  },
  {
   "cell_type": "code",
   "execution_count": 12,
   "metadata": {},
   "outputs": [],
   "source": [
    "data = {'tanah': 110, 'bangunan': 80, 'jarak_ke_pusat': 35}"
   ]
  },
  {
   "source": [
    "Transformasikan data tersebut dengan dengan menggunakan attr_info yang telah diperoleh yang kembali disimpan ke variabel data."
   ],
   "cell_type": "markdown",
   "metadata": {}
  },
  {
   "cell_type": "code",
   "execution_count": 13,
   "metadata": {},
   "outputs": [
    {
     "output_type": "execute_result",
     "data": {
      "text/plain": [
       "{'tanah': 0.5, 'bangunan': 0.6, 'jarak_ke_pusat': 0.5}"
      ]
     },
     "metadata": {},
     "execution_count": 13
    }
   ],
   "source": [
    "data_trans = transform_data(data, attr_info)\n",
    "data_trans"
   ]
  },
  {
   "source": [
    "Hitunglah prediksi harga dari variabel data tersebut."
   ],
   "cell_type": "markdown",
   "metadata": {}
  },
  {
   "cell_type": "code",
   "execution_count": 14,
   "metadata": {},
   "outputs": [
    {
     "output_type": "execute_result",
     "data": {
      "text/plain": [
       "'1200'"
      ]
     },
     "metadata": {},
     "execution_count": 14
    }
   ],
   "source": [
    "harga = price_based_on_similarity(data_trans, harga_rumah)\n",
    "harga"
   ]
  }
 ]
}
